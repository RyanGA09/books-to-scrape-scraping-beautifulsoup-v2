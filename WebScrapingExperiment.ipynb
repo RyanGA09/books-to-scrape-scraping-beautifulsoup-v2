{
 "cells": [
  {
   "cell_type": "markdown",
   "metadata": {},
   "source": [
    "# books-to-scrape-scraping"
   ]
  },
  {
   "cell_type": "markdown",
   "metadata": {},
   "source": [
    "## Import Library"
   ]
  },
  {
   "cell_type": "code",
   "execution_count": 4,
   "metadata": {},
   "outputs": [],
   "source": [
    "import requests\n",
    "from bs4 import BeautifulSoup\n",
    "import csv\n",
    "import time\n",
    "import pandas as pd"
   ]
  },
  {
   "cell_type": "markdown",
   "metadata": {},
   "source": [
    "## Function for Scrapping"
   ]
  },
  {
   "cell_type": "markdown",
   "metadata": {},
   "source": [
    "### Scrapping Function"
   ]
  },
  {
   "cell_type": "code",
   "execution_count": 5,
   "metadata": {},
   "outputs": [],
   "source": [
    "def scrape_books_from_page(url):\n",
    "    try:\n",
    "        response = requests.get(url)\n",
    "        response.raise_for_status()  # Memeriksa apakah permintaan berhasil\n",
    "    except requests.exceptions.RequestException as e:\n",
    "        print(f\"Error: {e}\")\n",
    "        return []\n",
    "\n",
    "    soup = BeautifulSoup(response.text, 'html.parser')\n",
    "\n",
    "    # Mengambil semua buku\n",
    "    books = soup.find_all('article', class_='product_pod')\n",
    "    book_data = []\n",
    "\n",
    "    for book in books:\n",
    "        # Mengambil judul buku\n",
    "        title = book.h3.a['title']\n",
    "\n",
    "        # Mengambil harga buku\n",
    "        price = book.find('p', class_='price_color').text\n",
    "\n",
    "        # Mengambil ketersediaan buku\n",
    "        availability = book.find('p', class_='instock availability').text.strip()\n",
    "\n",
    "        # Mengambil rating buku\n",
    "        rating_class = book.p['class']\n",
    "        rating = rating_class[1] if len(rating_class) > 1 else \"No rating\"\n",
    "\n",
    "        # Mengambil URL gambar sampul\n",
    "        image_url = book.find('img')['src']\n",
    "        image_url = 'https://books.toscrape.com/' + image_url.replace('../', '')\n",
    "\n",
    "        # Menyimpan data buku dalam bentuk dictionary\n",
    "        book_data.append({\n",
    "            'Title': title,\n",
    "            'Price': price,\n",
    "            'Availability': availability,\n",
    "            'Rating': rating,\n",
    "            'Image URL': image_url\n",
    "        })\n",
    "\n",
    "    return book_data\n"
   ]
  },
  {
   "cell_type": "markdown",
   "metadata": {},
   "source": [
    "### Function to Scrape Multiple Pages"
   ]
  },
  {
   "cell_type": "code",
   "execution_count": 6,
   "metadata": {},
   "outputs": [],
   "source": [
    "def scrape_multiple_pages(base_url, total_pages):\n",
    "    all_books = []\n",
    "\n",
    "    for page in range(1, total_pages + 1):\n",
    "        if page == 1:\n",
    "            url = base_url  # Halaman pertama\n",
    "        else:\n",
    "            url = f\"{base_url}catalogue/page-{page}.html\"  # Halaman berikutnya\n",
    "        print(f\"Scraping page {page}: {url}\")\n",
    "        books = scrape_books_from_page(url)\n",
    "        if books:\n",
    "            all_books.extend(books)\n",
    "        time.sleep(1)  # Memberikan jeda untuk menghindari terlalu banyak request\n",
    "\n",
    "    return all_books\n"
   ]
  },
  {
   "cell_type": "markdown",
   "metadata": {},
   "source": [
    "### Function to Save Data to CSV"
   ]
  },
  {
   "cell_type": "code",
   "execution_count": 7,
   "metadata": {},
   "outputs": [],
   "source": [
    "def save_to_csv(data, filename):\n",
    "    if not data:\n",
    "        print(\"No data to save.\")\n",
    "        return\n",
    "\n",
    "    keys = data[0].keys()\n",
    "    with open(filename, 'w', newline='', encoding='utf-8') as file:\n",
    "        writer = csv.DictWriter(file, fieldnames=keys)\n",
    "        writer.writeheader()\n",
    "        writer.writerows(data)\n",
    "    print(f\"Data saved to {filename}\")\n"
   ]
  },
  {
   "cell_type": "markdown",
   "metadata": {},
   "source": [
    "## Using Function"
   ]
  },
  {
   "cell_type": "markdown",
   "metadata": {},
   "source": [
    "### Using Scrapping Function"
   ]
  },
  {
   "cell_type": "code",
   "execution_count": 8,
   "metadata": {},
   "outputs": [
    {
     "name": "stdout",
     "output_type": "stream",
     "text": [
      "Scraping page 1: https://books.toscrape.com/\n",
      "Scraping page 2: https://books.toscrape.com/catalogue/page-2.html\n",
      "Scraping page 3: https://books.toscrape.com/catalogue/page-3.html\n",
      "Scraping page 4: https://books.toscrape.com/catalogue/page-4.html\n",
      "Scraping page 5: https://books.toscrape.com/catalogue/page-5.html\n",
      "Data saved to books_data.csv\n"
     ]
    }
   ],
   "source": [
    "# Tentukan URL dan jumlah halaman yang ingin di-scrape\n",
    "base_url = 'https://books.toscrape.com/'\n",
    "total_pages = 5  # Ubah sesuai jumlah halaman yang diinginkan\n",
    "\n",
    "# Lakukan scraping dan simpan data\n",
    "books_data = scrape_multiple_pages(base_url, total_pages)\n",
    "save_to_csv(books_data, 'books_data.csv')\n"
   ]
  },
  {
   "cell_type": "markdown",
   "metadata": {},
   "source": [
    "### Show data on Notebook"
   ]
  },
  {
   "cell_type": "code",
   "execution_count": 9,
   "metadata": {},
   "outputs": [
    {
     "data": {
      "text/html": [
       "<div>\n",
       "<style scoped>\n",
       "    .dataframe tbody tr th:only-of-type {\n",
       "        vertical-align: middle;\n",
       "    }\n",
       "\n",
       "    .dataframe tbody tr th {\n",
       "        vertical-align: top;\n",
       "    }\n",
       "\n",
       "    .dataframe thead th {\n",
       "        text-align: right;\n",
       "    }\n",
       "</style>\n",
       "<table border=\"1\" class=\"dataframe\">\n",
       "  <thead>\n",
       "    <tr style=\"text-align: right;\">\n",
       "      <th></th>\n",
       "      <th>Title</th>\n",
       "      <th>Price</th>\n",
       "      <th>Availability</th>\n",
       "      <th>Rating</th>\n",
       "      <th>Image URL</th>\n",
       "    </tr>\n",
       "  </thead>\n",
       "  <tbody>\n",
       "    <tr>\n",
       "      <th>0</th>\n",
       "      <td>A Light in the Attic</td>\n",
       "      <td>Â£51.77</td>\n",
       "      <td>In stock</td>\n",
       "      <td>Three</td>\n",
       "      <td>https://books.toscrape.com/media/cache/2c/da/2...</td>\n",
       "    </tr>\n",
       "    <tr>\n",
       "      <th>1</th>\n",
       "      <td>Tipping the Velvet</td>\n",
       "      <td>Â£53.74</td>\n",
       "      <td>In stock</td>\n",
       "      <td>One</td>\n",
       "      <td>https://books.toscrape.com/media/cache/26/0c/2...</td>\n",
       "    </tr>\n",
       "    <tr>\n",
       "      <th>2</th>\n",
       "      <td>Soumission</td>\n",
       "      <td>Â£50.10</td>\n",
       "      <td>In stock</td>\n",
       "      <td>One</td>\n",
       "      <td>https://books.toscrape.com/media/cache/3e/ef/3...</td>\n",
       "    </tr>\n",
       "    <tr>\n",
       "      <th>3</th>\n",
       "      <td>Sharp Objects</td>\n",
       "      <td>Â£47.82</td>\n",
       "      <td>In stock</td>\n",
       "      <td>Four</td>\n",
       "      <td>https://books.toscrape.com/media/cache/32/51/3...</td>\n",
       "    </tr>\n",
       "    <tr>\n",
       "      <th>4</th>\n",
       "      <td>Sapiens: A Brief History of Humankind</td>\n",
       "      <td>Â£54.23</td>\n",
       "      <td>In stock</td>\n",
       "      <td>Five</td>\n",
       "      <td>https://books.toscrape.com/media/cache/be/a5/b...</td>\n",
       "    </tr>\n",
       "  </tbody>\n",
       "</table>\n",
       "</div>"
      ],
      "text/plain": [
       "                                   Title    Price Availability Rating  \\\n",
       "0                   A Light in the Attic  Â£51.77     In stock  Three   \n",
       "1                     Tipping the Velvet  Â£53.74     In stock    One   \n",
       "2                             Soumission  Â£50.10     In stock    One   \n",
       "3                          Sharp Objects  Â£47.82     In stock   Four   \n",
       "4  Sapiens: A Brief History of Humankind  Â£54.23     In stock   Five   \n",
       "\n",
       "                                           Image URL  \n",
       "0  https://books.toscrape.com/media/cache/2c/da/2...  \n",
       "1  https://books.toscrape.com/media/cache/26/0c/2...  \n",
       "2  https://books.toscrape.com/media/cache/3e/ef/3...  \n",
       "3  https://books.toscrape.com/media/cache/32/51/3...  \n",
       "4  https://books.toscrape.com/media/cache/be/a5/b...  "
      ]
     },
     "execution_count": 9,
     "metadata": {},
     "output_type": "execute_result"
    }
   ],
   "source": [
    "# Membaca file CSV dan menampilkan beberapa baris pertama\n",
    "df = pd.read_csv('books_data.csv')\n",
    "df.head()"
   ]
  }
 ],
 "metadata": {
  "kernelspec": {
   "display_name": "venv",
   "language": "python",
   "name": "python3"
  },
  "language_info": {
   "codemirror_mode": {
    "name": "ipython",
    "version": 3
   },
   "file_extension": ".py",
   "mimetype": "text/x-python",
   "name": "python",
   "nbconvert_exporter": "python",
   "pygments_lexer": "ipython3",
   "version": "3.11.5"
  }
 },
 "nbformat": 4,
 "nbformat_minor": 2
}
