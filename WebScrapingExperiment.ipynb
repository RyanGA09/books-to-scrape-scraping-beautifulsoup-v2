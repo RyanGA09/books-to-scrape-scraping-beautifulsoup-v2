{
 "cells": [
  {
   "cell_type": "markdown",
   "metadata": {},
   "source": [
    "# Books to Scrape - Scraping: Advanced Version (V2)\n",
    "___"
   ]
  },
  {
   "cell_type": "markdown",
   "metadata": {},
   "source": [
    "## Import Library"
   ]
  },
  {
   "cell_type": "code",
   "execution_count": null,
   "metadata": {},
   "outputs": [],
   "source": [
    "import requests\n",
    "from bs4 import BeautifulSoup as BfS4\n",
    "import wget\n",
    "import os\n",
    "import re\n",
    "import time\n",
    "from pathlib import Path\n",
    "import csv\n",
    "\n",
    "print(\"Libraries imported successfully.\")"
   ]
  },
  {
   "cell_type": "markdown",
   "metadata": {},
   "source": [
    "## Scraping Image"
   ]
  },
  {
   "cell_type": "code",
   "execution_count": null,
   "metadata": {},
   "outputs": [],
   "source": [
    "# Fungsi untuk sanitasi nama folder atau file (menghilangkan karakter yang tidak valid)\n",
    "def sanitize_filename(name):\n",
    "    return re.sub(r'[<>:\"/\\|?*]', '_', name)\n",
    "\n",
    "print(\"Sanitization function loaded.\")"
   ]
  },
  {
   "cell_type": "code",
   "execution_count": null,
   "metadata": {},
   "outputs": [],
   "source": [
    "# Fungsi untuk menyimpan gambar dalam folder kategori\n",
    "def save_image(title, image_url, category):\n",
    "    # Tentukan path folder berdasarkan kategori\n",
    "    path = f\"images/category/{category}/\"\n",
    "    \n",
    "    # Membuat folder kategori jika belum ada\n",
    "    Path(path).mkdir(parents=True, exist_ok=True)\n",
    "\n",
    "    try:\n",
    "        # Debugging kategori\n",
    "        print(f\"Category: {category}\")  # Memastikan kategori yang diambil benar\n",
    "        \n",
    "        # Sanitasi nama file untuk menghindari karakter tidak valid\n",
    "        sanitized_title = sanitize_filename(title)\n",
    "        image_filename = f\"{path}{sanitized_title}.jpg\"  # Menentukan nama file gambar yang disimpan\n",
    "        \n",
    "        # Cek apakah gambar sudah ada di folder kategori\n",
    "        if not os.path.exists(image_filename):\n",
    "            # Mengunduh gambar menggunakan wget\n",
    "            wget.download(image_url, image_filename, bar=None)\n",
    "            print(f\"Image for '{sanitized_title}' saved in '{category}' folder.\")\n",
    "        else:\n",
    "            print(f\"Image for '{sanitized_title}' already exists, skipping download.\")\n",
    "    \n",
    "    except Exception as e:\n",
    "        print(f\"Error downloading image for '{title}': {e}\")\n",
    "\n",
    "print(\"Image saving function loaded.\")"
   ]
  },
  {
   "cell_type": "code",
   "execution_count": null,
   "metadata": {},
   "outputs": [],
   "source": [
    "# scrape all links of the categories even for multiple pages:\n",
    "def scraping_category():\n",
    "    print(\"---------- Starting category scraping ----------\")\n",
    "    url = \"http://books.toscrape.com/\"\n",
    "    response = requests.get(url)\n",
    "    if response.ok:\n",
    "        links_of_categories_all = []\n",
    "        soup = BfS4(response.content, \"html.parser\")\n",
    "        categories = soup.select(\".side_categories a\")\n",
    "        for category in categories:\n",
    "            href = category[\"href\"]\n",
    "            link = f\"http://books.toscrape.com/{href}\"\n",
    "            links_of_categories_all.append(link)\n",
    "\n",
    "            # Cek jika ada halaman tambahan\n",
    "            if not href == \"catalogue/category/books_1/index.html\":\n",
    "                response = requests.get(link)\n",
    "                if response.ok:\n",
    "                    soup = BfS4(response.content, \"html.parser\")\n",
    "                    next_page = soup.findAll('ul', class_='pager')\n",
    "                    if next_page:\n",
    "                        for page in next_page:\n",
    "                            all_num_page = page.find(\"li\", class_=\"current\").text\n",
    "                            num_page = int(all_num_page.strip()[10:])\n",
    "                            counter = 2\n",
    "                            while num_page > 1:\n",
    "                                link_next_page = f\"{link.replace('index.html', '')}page-{counter}.html\"\n",
    "                                links_of_categories_all.append(link_next_page)\n",
    "                                num_page -= 1\n",
    "                                counter += 1\n",
    "\n",
    "        links_of_categories = links_of_categories_all[1:]\n",
    "        print(f\"Found {len(links_of_categories)} category links.\")\n",
    "        return links_of_categories\n",
    "\n",
    "print(\"Category scraping function loaded.\")\n",
    "\n",
    "# all_categories = scraping_category()\n",
    "# display(all_categories)"
   ]
  },
  {
   "cell_type": "code",
   "execution_count": null,
   "metadata": {},
   "outputs": [],
   "source": [
    "# get all links of the books in one category:\n",
    "def scrape_links_of_books_in_category(category_links):\n",
    "    print(\"---------- Starting book scraping in categories ----------\")\n",
    "    books_in_category = []\n",
    "    for link in category_links:\n",
    "        response = requests.get(link.strip())\n",
    "        if response.ok:\n",
    "            soup = BfS4(response.content, \"html.parser\")\n",
    "            articles = soup.find_all(\"article\", class_=\"product_pod\")\n",
    "            for article in articles:\n",
    "                a = article.find(\"a\")\n",
    "                a_link = a[\"href\"]\n",
    "                books_in_category.append(\n",
    "                    f'http://books.toscrape.com/catalogue/{a_link.replace(\"../../../\", \"\")}'\n",
    "                )\n",
    "    print(f\"Found {len(books_in_category)} book links in categories.\")\n",
    "    return books_in_category\n",
    "\n",
    "print(\"Book link scraping function loaded.\")\n",
    "\n",
    "# links_of_books = scrape_links_of_books_in_category(all_categories)\n",
    "# display(links_of_books)"
   ]
  },
  {
   "cell_type": "code",
   "execution_count": null,
   "metadata": {},
   "outputs": [],
   "source": [
    "# Fungsi untuk scraping data dari halaman buku dalam satu kategori\n",
    "def scrape_books_from_category_page(url):\n",
    "    try:\n",
    "        response = requests.get(url)\n",
    "        response.raise_for_status()\n",
    "    except requests.exceptions.RequestException as e:\n",
    "        print(f\"Error: {e}\")\n",
    "        return []\n",
    "\n",
    "    soup = BfS4(response.text, 'html.parser')\n",
    "    books = soup.find_all('article', class_='product_pod')\n",
    "    book_data = []\n",
    "\n",
    "    for book in books:\n",
    "        title = book.h3.a['title']\n",
    "        image = book.find('img')['src']\n",
    "        image_url = image.replace(\"../../\", \"http://books.toscrape.com/\")\n",
    "        book_link = 'https://books.toscrape.com/catalogue/' + book.h3.a['href'].replace('../../../', '')\n",
    "        category = soup.find(\"a\", attrs={\"href\": re.compile(\"/category/books/\")}).string.strip()\n",
    "        \n",
    "        book_data.append({\n",
    "            'Title': title,\n",
    "            'Category': category,\n",
    "            'Image URL': image_url\n",
    "        })\n",
    "        save_image(title, image_url, category)\n",
    "\n",
    "    print(f\"Scraped {len(book_data)} books from category page.\")\n",
    "    return book_data\n",
    "\n",
    "print(\"Book data scraping function loaded.\")"
   ]
  },
  {
   "cell_type": "code",
   "execution_count": null,
   "metadata": {},
   "outputs": [],
   "source": [
    "# sample_books = scrape_books_from_category_page(\"http://books.toscrape.com/catalogue/category/books/travel_2/index.html\")\n",
    "# display(sample_books)"
   ]
  },
  {
   "cell_type": "code",
   "execution_count": null,
   "metadata": {},
   "outputs": [],
   "source": [
    "# Mengambil informasi kategori\n",
    "def category_info(links):\n",
    "    information = []\n",
    "    for link in links:\n",
    "        book_info = scrape_books_from_category_page(link)\n",
    "        information.append(book_info)\n",
    "    print(f\"Collected information for {len(information)} categories.\")\n",
    "    return information\n",
    "\n",
    "print(\"Category information function loaded.\")"
   ]
  },
  {
   "cell_type": "markdown",
   "metadata": {},
   "source": [
    "## Scraping Data"
   ]
  },
  {
   "cell_type": "code",
   "execution_count": null,
   "metadata": {},
   "outputs": [],
   "source": [
    "# Fungsi untuk mengambil data dari halaman detail buku\n",
    "def scrape_book_details(book_link):\n",
    "    try:\n",
    "        response = requests.get(book_link)\n",
    "        response.raise_for_status()\n",
    "    except requests.exceptions.RequestException as e:\n",
    "        print(f\"Error: {e}\")\n",
    "        return {}\n",
    "\n",
    "    soup = BfS4(response.text, 'html.parser')\n",
    "    description = soup.find('meta', {'name': 'description'})\n",
    "    description = description['content'] if description else 'No description available'\n",
    "\n",
    "    price_incl_tax = price_excl_tax = price_tax = 'N/A'\n",
    "    for price_elem in ['Price (incl. tax)', 'Price (excl. tax)', 'Tax']:\n",
    "        price = soup.find('th', text=price_elem)\n",
    "        if price:\n",
    "            setattr(locals(), price_elem.lower().replace(\" \", \"_\"), price.find_next_sibling('td').text.strip())\n",
    "\n",
    "    return {\n",
    "        'description': description,\n",
    "        'price_incl_tax': price_incl_tax,\n",
    "        'price_excl_tax': price_excl_tax,\n",
    "        'price_tax': price_tax\n",
    "    }\n",
    "\n",
    "print(\"Book detail scraping function loaded.\")"
   ]
  },
  {
   "cell_type": "code",
   "execution_count": null,
   "metadata": {},
   "outputs": [],
   "source": [
    "# Fungsi untuk mengambil link buku dari katalog\n",
    "def scrape_links_of_books_from_page(page_url):\n",
    "    books_in_page = []\n",
    "    response = requests.get(page_url)\n",
    "    if response.ok:\n",
    "        soup = BfS4(response.content, \"html.parser\")\n",
    "        # Ambil semua artikel dengan kelas \"product_pod\" yang berisi informasi buku\n",
    "        articles = soup.find_all(\"article\", class_=\"product_pod\")\n",
    "        for article in articles:\n",
    "            a = article.find(\"a\")\n",
    "            a_link = a[\"href\"]\n",
    "            # Membuat link lengkap ke halaman detail buku\n",
    "            books_in_page.append(f'http://books.toscrape.com/catalogue/{a_link.replace(\"../../../\", \"\")}')\n",
    "    return books_in_page"
   ]
  },
  {
   "cell_type": "code",
   "execution_count": null,
   "metadata": {},
   "outputs": [],
   "source": [
    "# Fungsi untuk mengambil data detail satu buku\n",
    "def scrape_book_data(book_link):\n",
    "    print(f\"Scraping {book_link} ...\")\n",
    "    response = requests.get(book_link)\n",
    "    if response.ok:\n",
    "        soup = BfS4(response.content, \"html.parser\")\n",
    "        image = soup.find(\"img\")\n",
    "        image_url = image[\"src\"].replace(\"../../\", \"http://books.toscrape.com/\")  # Mengubah url relatif menjadi absolut\n",
    "        title = image[\"alt\"]\n",
    "        price = soup.find('p', class_='price_color').text\n",
    "        availability = soup.find(\"th\", text=\"Availability\").find_next_sibling(\"td\").string.strip()\n",
    "        rating = soup.find(\"p\", attrs={'class': 'star-rating'}).get(\"class\")[1]\n",
    "        details = scrape_book_details(book_link)\n",
    "        \n",
    "        data = {\n",
    "            \"Title\": title,\n",
    "            \"Price\": price,\n",
    "            \"Price including tax\": details['price_incl_tax'],\n",
    "            \"Price excluding tax\": details['price_excl_tax'],\n",
    "            \"Price Tax\": details['price_tax'],\n",
    "            \"Availability\": availability,\n",
    "            \"Product Description\": details['description'],\n",
    "            \"Rating\": rating,\n",
    "            \"Image URL\": image_url,\n",
    "            \"Link\": book_link\n",
    "        }\n",
    "        return data\n",
    "    return None"
   ]
  },
  {
   "cell_type": "code",
   "execution_count": null,
   "metadata": {},
   "outputs": [],
   "source": [
    "# Fungsi untuk scraping buku dari beberapa halaman katalog\n",
    "def scrape_books_from_pages(base_url, total_pages):\n",
    "    all_books = []\n",
    "    for page in range(1, total_pages + 1):\n",
    "        if page == 1:\n",
    "            url = base_url  # Halaman pertama\n",
    "        else:\n",
    "            url = f\"{base_url}catalogue/page-{page}.html\"  # Halaman berikutnya\n",
    "\n",
    "        print(f\"Scraping page {page}: {url}\")\n",
    "        \n",
    "        # Ambil semua link buku dari halaman ini\n",
    "        books_in_page = scrape_links_of_books_from_page(url)\n",
    "        for book_link in books_in_page:\n",
    "            book_data = scrape_book_data(book_link)\n",
    "            if book_data:\n",
    "                all_books.append(book_data)\n",
    "\n",
    "        time.sleep(1)  # Memberikan jeda untuk menghindari terlalu banyak request\n",
    "\n",
    "    return all_books"
   ]
  },
  {
   "cell_type": "code",
   "execution_count": null,
   "metadata": {},
   "outputs": [],
   "source": [
    "# Fungsi untuk menyimpan hasil scraping ke file CSV\n",
    "def save_to_csv(data, filename):\n",
    "    if not data:\n",
    "        print(\"No data to save.\")\n",
    "        return\n",
    "\n",
    "    keys = data[0].keys()\n",
    "    with open(filename, 'w', newline='', encoding='utf-8') as file:\n",
    "        writer = csv.DictWriter(file, fieldnames=keys)\n",
    "        writer.writeheader()\n",
    "        writer.writerows(data)\n",
    "    print(f\"Data saved to {filename}\")\n",
    "\n",
    "print(\"CSV saving function loaded.\")"
   ]
  },
  {
   "cell_type": "code",
   "execution_count": null,
   "metadata": {},
   "outputs": [],
   "source": [
    "def main():\n",
    "    base_url = 'http://books.toscrape.com/'\n",
    "    all_categories = scraping_category()\n",
    "    links = scrape_links_of_books_in_category(all_categories)\n",
    "    book_data = category_info(links)\n",
    "    save_to_csv(book_data, 'books_data.csv')\n",
    "\n",
    "print(\"Main scraping process loaded.\")\n",
    "\n",
    "# Running the main function to execute scraping\n",
    "main()"
   ]
  }
 ],
 "metadata": {
  "kernelspec": {
   "display_name": "venv",
   "language": "python",
   "name": "python3"
  },
  "language_info": {
   "codemirror_mode": {
    "name": "ipython",
    "version": 3
   },
   "file_extension": ".py",
   "mimetype": "text/x-python",
   "name": "python",
   "nbconvert_exporter": "python",
   "pygments_lexer": "ipython3",
   "version": "3.11.5"
  }
 },
 "nbformat": 4,
 "nbformat_minor": 2
}
